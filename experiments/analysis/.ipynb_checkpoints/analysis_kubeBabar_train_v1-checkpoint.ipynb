{
 "cells": [
  {
   "cell_type": "code",
   "execution_count": 1,
   "id": "21ee0cf1",
   "metadata": {},
   "outputs": [
    {
     "name": "stderr",
     "output_type": "stream",
     "text": [
      "/home/babarali/miniconda3/envs/kubeB-env/lib/python3.9/site-packages/tqdm/auto.py:21: TqdmWarning: IProgress not found. Please update jupyter and ipywidgets. See https://ipywidgets.readthedocs.io/en/stable/user_install.html\n",
      "  from .autonotebook import tqdm as notebook_tqdm\n"
     ]
    },
    {
     "name": "stdout",
     "output_type": "stream",
     "text": [
      "/home/babarali/KubeBabar/data/train-results\n"
     ]
    }
   ],
   "source": [
    "%matplotlib inline\n",
    "import os\n",
    "import sys\n",
    "from ray.tune import analysis\n",
    "from ray.tune import ExperimentAnalysis\n",
    "\n",
    "import os\n",
    "import sys\n",
    "import json\n",
    "import pickle\n",
    "import pandas as pd\n",
    "import matplotlib.pyplot as plt\n",
    "\n",
    "__file__ = globals()['_dh'][0]\n",
    "\n",
    "# get an absolute path to the directory that contains parent files\n",
    "project_dir = __file__ = globals()['_dh'][0]\n",
    "sys.path.append(os.path.normpath(os.path.join(project_dir, '..', '..')))\n",
    "\n",
    "from experiments.utils.constants import TRAIN_RESULTS_PATH\n",
    "%matplotlib inline\n",
    "\n",
    "print(TRAIN_RESULTS_PATH)"
   ]
  },
  {
   "cell_type": "code",
   "execution_count": 9,
   "id": "d5c8e3c7",
   "metadata": {},
   "outputs": [
    {
     "name": "stdout",
     "output_type": "stream",
     "text": [
      "[{'legend': 'MKHetero-80', 'experiment_id': 1, 'dataset_id': 9, 'algorithm': 'IMPALA', 'trial': 'IMPALA_SimEdgeEnv_30bcd_00000_0_lr=0.0003_2023-06-29_08-40-16', 'state': 'experiment_state-2023-06-29_08-40-16.json'}, {'legend': 'MKHomo-80', 'experiment_id': 0, 'dataset_id': 12, 'algorithm': 'IMPALA', 'trial': 'IMPALA_SimEdgeEnv_9fc33_00000_0_lr=0.0003_2023-06-27_16-23-53', 'state': 'experiment_state-2023-06-27_16-23-53.json'}]\n"
     ]
    }
   ],
   "source": [
    "series = 32\n",
    "trace_id = 0\n",
    "total_timesteps = 100000\n",
    "\n",
    "experiments_info = [\n",
    "    {\n",
    "        'legend': 'MKHetero-80',\n",
    "        'experiment_id': 1,\n",
    "        'dataset_id': 9,\n",
    "        'algorithm': 'IMPALA',\n",
    "        'trial': 'IMPALA_SimEdgeEnv_30bcd_00000_0_lr=0.0003_2023-06-29_08-40-16',\n",
    "        'state': 'experiment_state-2023-06-29_08-40-16.json'},\n",
    "    {  \n",
    "        'legend': 'MKHomo-80',\n",
    "        'experiment_id': 0,\n",
    "        'dataset_id' : 12,\n",
    "        'algorithm': 'IMPALA',\n",
    "        'trial': 'IMPALA_SimEdgeEnv_9fc33_00000_0_lr=0.0003_2023-06-27_16-23-53',\n",
    "        'state': 'experiment_state-2023-06-27_16-23-53.json'\n",
    "    }\n",
    "]\n",
    "\n",
    "print(experiments_info)"
   ]
  },
  {
   "cell_type": "code",
   "execution_count": 10,
   "id": "6bf170db",
   "metadata": {},
   "outputs": [],
   "source": [
    "def load_experiments(legend, experiment_id, dataset_id, algorithm, trial, state):\n",
    "    experiment_folder_path = os.path.join(\n",
    "        TRAIN_RESULTS_PATH,\n",
    "        \"series\",      str(series),\n",
    "        \"envs\",        'sim-edge',\n",
    "        \"datasets\",    str(dataset_id),\n",
    "        \"workloads\",   str(0),\n",
    "        \"networks\",    str(0),\n",
    "        \"traces\",      str(0),\n",
    "        \"experiments\", str(experiment_id),\n",
    "        str(algorithm), str(state))\n",
    "    \n",
    "    print(experiment_folder_path)\n",
    "    \n",
    "    df = ExperimentAnalysis(experiment_checkpoint_path=experiment_folder_path).trial_dataframes\n",
    "    \n",
    "    '''for item in df.items():\n",
    "        print(item[1].columns)\n",
    "        print(item[1]['custom_metrics/num_moves_mean'])\n",
    "        y_axis = item[1]['episode_reward_mean']\n",
    "        x_axis = item[1]['timesteps_total']\n",
    "    \n",
    "    plt.plot(x_axis, y_axis)\n",
    "    plt.title('IMPALA Heterogeous')\n",
    "    plt.show()'''\n",
    "    \n",
    "    return legend, dataset_id, df"
   ]
  },
  {
   "cell_type": "code",
   "execution_count": 12,
   "id": "f38a7674",
   "metadata": {},
   "outputs": [
    {
     "name": "stderr",
     "output_type": "stream",
     "text": [
      "2023-07-05:17:06:51,979 INFO     [experiment_analysis.py:812] No `self.trials`. Drawing logdirs from checkpoint file. This may result in some information that is out of sync, as checkpointing is periodic.\n",
      "2023-07-05:17:06:52,15 INFO     [experiment_analysis.py:812] No `self.trials`. Drawing logdirs from checkpoint file. This may result in some information that is out of sync, as checkpointing is periodic.\n"
     ]
    },
    {
     "name": "stdout",
     "output_type": "stream",
     "text": [
      "/home/babarali/KubeBabar/data/train-results/series/32/envs/sim-edge/datasets/9/workloads/0/networks/0/traces/0/experiments/1/IMPALA/experiment_state-2023-06-29_08-40-16.json\n",
      "/home/babarali/KubeBabar/data/train-results/series/32/envs/sim-edge/datasets/12/workloads/0/networks/0/traces/0/experiments/0/IMPALA/experiment_state-2023-06-27_16-23-53.json\n"
     ]
    }
   ],
   "source": [
    "experiments={9:{}, 12: {}, 3: {}}\n",
    "for experiment_info in experiments_info:\n",
    "    legend, dataset_id, df = load_experiments(**experiment_info)\n",
    "    experiments[dataset_id][legend] = df\n",
    "    "
   ]
  },
  {
   "cell_type": "code",
   "execution_count": 37,
   "id": "a7f7dead",
   "metadata": {},
   "outputs": [
    {
     "name": "stdout",
     "output_type": "stream",
     "text": [
      "dict_keys([9, 12, 3])\n",
      "1\n"
     ]
    }
   ],
   "source": [
    "print(experiments.keys())\n",
    "print(len(experiments[9]))"
   ]
  },
  {
   "cell_type": "code",
   "execution_count": null,
   "id": "9113a520",
   "metadata": {},
   "outputs": [],
   "source": [
    "fig, axes = plt.subplots()\n",
    "for network_id in zip([9, 12]):\n",
    "    for label, dataframe in experiments[network_id].items():\n",
    "        for item in dataframe.items():\n",
    "            ax.plot(item[1]['timesteps_total'],\n",
    "                     item[1]['episode_reward_mean'], label=label\n",
    "                    )\n",
    "            ax.set_title('# users {}'.format(num_users))"
   ]
  },
  {
   "cell_type": "code",
   "execution_count": 38,
   "id": "ce94c749",
   "metadata": {},
   "outputs": [
    {
     "name": "stdout",
     "output_type": "stream",
     "text": [
      "0         600\n",
      "1        1200\n",
      "2        1800\n",
      "3        2400\n",
      "4        3000\n",
      "        ...  \n",
      "829    497700\n",
      "830    498300\n",
      "831    498900\n",
      "832    499500\n",
      "833    500100\n",
      "Name: timesteps_total, Length: 834, dtype: int64 0      -2.742721\n",
      "1      -2.734075\n",
      "2      -2.742185\n",
      "3      -2.697155\n",
      "4      -2.708922\n",
      "         ...    \n",
      "829    27.792591\n",
      "830    29.100498\n",
      "831    29.320765\n",
      "832    27.513017\n",
      "833    25.797748\n",
      "Name: episode_reward_mean, Length: 834, dtype: float64\n",
      "0         600\n",
      "1        1200\n",
      "2        1800\n",
      "3        2400\n",
      "4        3000\n",
      "        ...  \n",
      "829    498000\n",
      "830    498600\n",
      "831    499200\n",
      "832    499800\n",
      "833    500400\n",
      "Name: timesteps_total, Length: 834, dtype: int64 0      17.662968\n",
      "1      18.255061\n",
      "2      19.211624\n",
      "3      19.448315\n",
      "4      18.189848\n",
      "         ...    \n",
      "829    27.276117\n",
      "830    24.231012\n",
      "831    26.370790\n",
      "832    26.154618\n",
      "833    24.739430\n",
      "Name: episode_reward_mean, Length: 834, dtype: float64\n"
     ]
    },
    {
     "data": {
      "image/png": "[encoded data removed]",
      "text/plain": [
       "<Figure size 1400x400 with 2 Axes>"
      ]
     },
     "metadata": {},
     "output_type": "display_data"
    }
   ],
   "source": [
    "fig, axes = plt.subplots(1, 2, figsize=(14, 4))\n",
    "for network_id, num_users, ax in zip([9, 12], [16, 32], axes):\n",
    "    for label, dataframe in experiments[network_id].items():\n",
    "        for item in dataframe.items():\n",
    "            print(item[1]['timesteps_total'], item[1]['episode_reward_mean'])\n",
    "            \n",
    "            "
   ]
  },
  {
   "cell_type": "code",
   "execution_count": 39,
   "id": "f5c247bf",
   "metadata": {},
   "outputs": [
    {
     "ename": "KeyError",
     "evalue": "'timesteps_total'",
     "output_type": "error",
     "traceback": [
      "\u001b[0;31m---------------------------------------------------------------------------\u001b[0m",
      "\u001b[0;31mKeyError\u001b[0m                                  Traceback (most recent call last)",
      "Cell \u001b[0;32mIn[39], line 5\u001b[0m\n\u001b[1;32m      2\u001b[0m \u001b[38;5;28;01mfor\u001b[39;00m network_id, num_users, ax \u001b[38;5;129;01min\u001b[39;00m \u001b[38;5;28mzip\u001b[39m([\u001b[38;5;241m9\u001b[39m, \u001b[38;5;241m12\u001b[39m], [\u001b[38;5;241m16\u001b[39m, \u001b[38;5;241m32\u001b[39m], axes):\n\u001b[1;32m      3\u001b[0m     \u001b[38;5;28;01mfor\u001b[39;00m label, dataframe \u001b[38;5;129;01min\u001b[39;00m experiments[network_id]\u001b[38;5;241m.\u001b[39mitems():\n\u001b[1;32m      4\u001b[0m         ax\u001b[38;5;241m.\u001b[39mplot(\n\u001b[0;32m----> 5\u001b[0m             \u001b[43mdataframe\u001b[49m\u001b[43m[\u001b[49m\u001b[38;5;124;43m'\u001b[39;49m\u001b[38;5;124;43mtimesteps_total\u001b[39;49m\u001b[38;5;124;43m'\u001b[39;49m\u001b[43m]\u001b[49m,\n\u001b[1;32m      6\u001b[0m             dataframe[\u001b[38;5;124m'\u001b[39m\u001b[38;5;124mcustom_metrics/users_distances_mean\u001b[39m\u001b[38;5;124m'\u001b[39m], label\u001b[38;5;241m=\u001b[39mlabel)\n\u001b[1;32m      7\u001b[0m         ax\u001b[38;5;241m.\u001b[39mset_title(\u001b[38;5;124m'\u001b[39m\u001b[38;5;124m# users \u001b[39m\u001b[38;5;132;01m{}\u001b[39;00m\u001b[38;5;124m'\u001b[39m\u001b[38;5;241m.\u001b[39mformat(num_users))\n\u001b[1;32m      8\u001b[0m \u001b[38;5;28;01mfor\u001b[39;00m ax \u001b[38;5;129;01min\u001b[39;00m axes\u001b[38;5;241m.\u001b[39mflat:\n",
      "\u001b[0;31mKeyError\u001b[0m: 'timesteps_total'"
     ]
    },
    {
     "data": {
      "image/png": "[encoded data removed]",
      "text/plain": [
       "<Figure size 1400x400 with 2 Axes>"
      ]
     },
     "metadata": {},
     "output_type": "display_data"
    }
   ],
   "source": [
    "fig, axes = plt.subplots(1, 2, figsize=(14, 4))\n",
    "for network_id, num_users, ax in zip([9, 12], [16, 32], axes):\n",
    "    for label, dataframe in experiments[network_id].items():\n",
    "        ax.plot(\n",
    "            dataframe['timesteps_total'],\n",
    "            dataframe['custom_metrics/users_distances_mean'], label=label)\n",
    "        ax.set_title('# users {}'.format(num_users))\n",
    "for ax in axes.flat:\n",
    "    ax.set(xlabel='Training step', ylabel='Average latency')\n",
    "plt.legend(loc='center left', bbox_to_anchor=(1, 0.5))\n",
    "plt.show()"
   ]
  },
  {
   "cell_type": "code",
   "execution_count": null,
   "id": "05cb6b61",
   "metadata": {},
   "outputs": [],
   "source": []
  },
  {
   "cell_type": "code",
   "execution_count": null,
   "id": "406767d7",
   "metadata": {},
   "outputs": [],
   "source": []
  }
 ],
 "metadata": {
  "kernelspec": {
   "display_name": "kubeB_env",
   "language": "python",
   "name": "kubeb_env"
  },
  "language_info": {
   "codemirror_mode": {
    "name": "ipython",
    "version": 3
   },
   "file_extension": ".py",
   "mimetype": "text/x-python",
   "name": "python",
   "nbconvert_exporter": "python",
   "pygments_lexer": "ipython3",
   "version": "3.9.7"
  }
 },
 "nbformat": 4,
 "nbformat_minor": 5
}
