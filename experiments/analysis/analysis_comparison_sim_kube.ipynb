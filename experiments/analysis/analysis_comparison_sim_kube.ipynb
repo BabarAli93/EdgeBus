{
 "cells": [
  {
   "cell_type": "markdown",
   "metadata": {},
   "source": [
    "# Load the tests to compare"
   ]
  },
  {
   "cell_type": "code",
   "execution_count": 37,
   "metadata": {},
   "outputs": [
    {
     "name": "stdout",
     "output_type": "stream",
     "text": [
      "availeble tests:\n",
      " [0, 1, 2, 3, 4, 5, 6]\n",
      "tests_types:\n",
      " ['kube-hetero', 'IMPALA', 'binpacking', 'kube-hetero', 'kube-hetero', 'binpacking', 'IMPALA']\n"
     ]
    }
   ],
   "source": [
    "%matplotlib inline\n",
    "import os\n",
    "import sys\n",
    "import json\n",
    "import pickle\n",
    "import pandas as pd\n",
    "import matplotlib.pyplot as plt\n",
    "\n",
    "__file__ = globals()['_dh'][0]\n",
    "\n",
    "# get an absolute path to the directory that contains parent files\n",
    "project_dir = __file__ = globals()['_dh'][0]\n",
    "sys.path.append(os.path.normpath(os.path.join(project_dir, '..', '..')))\n",
    "\n",
    "from experiments.utils.constants import TESTS_RESULTS_PATH\n",
    "series = 232\n",
    "start_test = 0\n",
    "end_test = 7\n",
    "tests_ids = [i for i in range(start_test, end_test)]\n",
    "tests_names = [i for i in range(start_test, end_test)]\n",
    "\n",
    "tests = {}\n",
    "\n",
    "\n",
    "for test_id, test_name in zip(tests_ids, tests_names):\n",
    "    test_path = os.path.join(\n",
    "        TESTS_RESULTS_PATH,\n",
    "        'series',\n",
    "        str(series),\n",
    "        'tests',\n",
    "        str(test_id))\n",
    "    with open(os.path.join(test_path, 'info.json')) as cf:\n",
    "        info = json.loads(cf.read())\n",
    "    with open(os.path.join(test_path, 'episodes.pickle'), 'rb') as input_file:\n",
    "        episodes = pickle.load(input_file)\n",
    "    tests.update({test_name: {\n",
    "        'info': info,\n",
    "        'episodes': episodes\n",
    "    }})\n",
    "test_types = [test['info']['algorithm'] for _, test in tests.items()]\n",
    "print(\"availeble tests:\\n {}\\ntests_types:\\n {}\".format(\n",
    "    list(tests.keys()),\n",
    "    test_types))"
   ]
  },
  {
   "cell_type": "code",
   "execution_count": null,
   "metadata": {},
   "outputs": [],
   "source": []
  },
  {
   "cell_type": "code",
   "execution_count": 38,
   "metadata": {},
   "outputs": [],
   "source": [
    "final_stats = []\n",
    "\n",
    "for test_id in range(start_test, end_test):\n",
    "    # latency average\n",
    "    user_distances_episodes_average = [episode['users_distances'].mean() for episode in tests[test_id]['episodes']]\n",
    "    users_distances_test_average = sum(user_distances_episodes_average) / len(user_distances_episodes_average)\n",
    "    \n",
    "    # consolidation average\n",
    "    num_consolidated_episodes_average = [episode['num_consolidated'].mean() for episode in tests[test_id]['episodes']]\n",
    "    num_consolidated_test_average = sum(num_consolidated_episodes_average) / len(num_consolidated_episodes_average)\n",
    "    \n",
    "    # Migrations average\n",
    "    num_moves_episodes_average = [episode['num_moves'].mean() for episode in tests[test_id]['episodes']]\n",
    "    num_moves_test_average = sum(num_moves_episodes_average) / len(num_moves_episodes_average)\n",
    "\n",
    "    action = tests[test_id]['episodes'][0]['action']\n",
    "    num_moves = tests[test_id]['episodes'][0]['num_moves']\n",
    "    \n",
    "    final_stats.append({\n",
    "        'test_id': test_id,\n",
    "        'network_id': tests[test_id]['info']['network_id'],\n",
    "        'trace_id_test': tests[test_id]['info']['trace_id_test'],\n",
    "        'action': action,\n",
    "        'num_moves': num_moves,\n",
    "        'sample_episode_users_distances': tests[test_id]['episodes'][0]['users_distances'],\n",
    "        'sample_episode_num_consolidated': tests[test_id]['episodes'][0]['num_consolidated'],\n",
    "        'penalty_latency': tests[test_id]['info']['penalty_latency'],\n",
    "        'penalalty_consolidated': tests[test_id]['info']['penalty_consolidated'],\n",
    "        'users_distances_test_average': users_distances_test_average,\n",
    "        'num_consolidated_test_average': num_consolidated_test_average,\n",
    "        'num_moves_test_average': num_moves_test_average\n",
    "    })\n",
    "    \n",
    "final_stats_df = pd.DataFrame(final_stats)\n",
    "final_stats_df['test_types'] = test_types"
   ]
  },
  {
   "cell_type": "code",
   "execution_count": 39,
   "metadata": {},
   "outputs": [
    {
     "data": {
      "text/plain": [
       "0     1.591924\n",
       "1     1.616487\n",
       "2     1.617862\n",
       "3     1.590780\n",
       "4     1.684957\n",
       "5     1.886464\n",
       "6     1.720979\n",
       "7     1.953189\n",
       "8     1.915000\n",
       "9     1.845450\n",
       "10    1.931681\n",
       "11    2.134533\n",
       "12    2.059082\n",
       "13    2.048439\n",
       "14    1.974302\n",
       "15    1.997452\n",
       "16    1.929090\n",
       "17    2.001311\n",
       "18    2.190224\n",
       "19    2.124756\n",
       "20    1.957075\n",
       "21    1.834162\n",
       "22    1.829688\n",
       "23    1.798206\n",
       "24    1.879072\n",
       "25    1.598892\n",
       "26    1.558636\n",
       "27    1.470660\n",
       "28    1.551996\n",
       "29    1.256405\n",
       "30    1.443798\n",
       "31    1.525595\n",
       "32    1.499760\n",
       "33    1.408186\n",
       "34    1.605251\n",
       "35    1.821678\n",
       "36    1.682541\n",
       "37    1.708608\n",
       "38    1.764148\n",
       "39    1.646522\n",
       "40    1.786814\n",
       "41    1.904397\n",
       "42    2.013517\n",
       "43    1.745012\n",
       "44    1.653391\n",
       "45    1.552594\n",
       "46    1.650423\n",
       "47    1.657338\n",
       "48    1.708229\n",
       "49    1.819963\n",
       "Name: users_distances, dtype: float64"
      ]
     },
     "execution_count": 39,
     "metadata": {},
     "output_type": "execute_result"
    }
   ],
   "source": [
    "final_stats_df.loc[0]['sample_episode_users_distances']"
   ]
  },
  {
   "cell_type": "code",
   "execution_count": 40,
   "metadata": {},
   "outputs": [
    {
     "data": {
      "text/plain": [
       "Index(['test_id', 'network_id', 'trace_id_test', 'action', 'num_moves',\n",
       "       'sample_episode_users_distances', 'sample_episode_num_consolidated',\n",
       "       'penalty_latency', 'penalalty_consolidated',\n",
       "       'users_distances_test_average', 'num_consolidated_test_average',\n",
       "       'num_moves_test_average', 'test_types'],\n",
       "      dtype='object')"
      ]
     },
     "execution_count": 40,
     "metadata": {},
     "output_type": "execute_result"
    }
   ],
   "source": [
    "final_stats_df.columns"
   ]
  },
  {
   "cell_type": "code",
   "execution_count": 41,
   "metadata": {},
   "outputs": [],
   "source": [
    "final_stats_df.to_csv('stats_mango_gke.csv')"
   ]
  },
  {
   "cell_type": "markdown",
   "metadata": {},
   "source": [
    "# Necessary stats of a test"
   ]
  },
  {
   "cell_type": "code",
   "execution_count": 28,
   "metadata": {},
   "outputs": [],
   "source": [
    "final_stats = []\n",
    "for test_id in range(start_test, end_test):\n",
    "    users_distances_episodes_average = [episode['users_distances'].mean() for episode in tests[test_id]['episodes']]\n",
    "    users_distances_test_average = sum(users_distances_episodes_average) / len(users_distances_episodes_average)\n",
    "    num_consolidated_episodes_average = [episode['num_consolidated'].mean() for episode in tests[test_id]['episodes']]\n",
    "    num_consolidated_test_average = sum(num_consolidated_episodes_average) / len(num_consolidated_episodes_average)\n",
    "    action = tests[test_id]['episodes'][0]['action']\n",
    "    num_moves = tests[test_id]['episodes'][0]['num_moves']\n",
    "    # print(users_distances_episodes_average)\n",
    "    # print(users_distances_test_average)\n",
    "    # print(num_consolidated_episodes_average)\n",
    "    # print(num_consolidated_test_average)\n",
    "    final_stats.append({\n",
    "        'action'\n",
    "        'test_id': test_id,\n",
    "        # 'checkpoint': tests[test_id]['info']['checkpoint'],\n",
    "        'network_id': tests[test_id]['info']['network_id'],\n",
    "        'trace_id_test': tests[test_id]['info']['trace_id_test'],\n",
    "        'action': action,\n",
    "        'num_moves': num_moves,\n",
    "        'sample_episode_users_distances': tests[test_id]['episodes'][0]['users_distances'],\n",
    "        'sample_episode_num_consolidated': tests[test_id]['episodes'][0]['num_consolidated'],\n",
    "        # 'experiments': tests[test_id]['info']['experiments'],\n",
    "        'penalty_latency': tests[test_id]['info']['penalty_latency'],\n",
    "        'penalalty_consolidated': tests[test_id]['info']['penalty_consolidated'],\n",
    "        'users_distances_test_average': users_distances_test_average,\n",
    "        'num_consolidated_test_average': num_consolidated_test_average\n",
    "    })\n",
    "\n",
    "final_stats_df = pd.DataFrame(final_stats)\n",
    "final_stats_df['test_types'] = test_types\n",
    "# final_stats_df.loc[df['penalalty_consolidated']]\n",
    "\n",
    "# TODO add the following information to the table (from the info.json file)\n",
    "# - penatly_latency\n",
    "# - penalty_conslidation"
   ]
  },
  {
   "cell_type": "code",
   "execution_count": 30,
   "metadata": {},
   "outputs": [
    {
     "data": {
      "text/plain": [
       "actiontest_id                                                                     22\n",
       "network_id                                                                         1\n",
       "trace_id_test                                                                      0\n",
       "action                             0       [4, 7, 1, 7, 2, 3, 6, 3, 4, 0, 6, 4, 2...\n",
       "num_moves                          0       0\n",
       "1       4\n",
       "2       3\n",
       "3       1\n",
       "4     ...\n",
       "sample_episode_users_distances     0       2.606172\n",
       "1       2.621255\n",
       "2       2.29...\n",
       "sample_episode_num_consolidated    0       4\n",
       "1       3\n",
       "2       3\n",
       "3       3\n",
       "4     ...\n",
       "penalty_latency                                                                    0\n",
       "penalalty_consolidated                                                             0\n",
       "users_distances_test_average                                                3.250105\n",
       "num_consolidated_test_average                                               1.340284\n",
       "test_types                                                                sim-hetero\n",
       "Name: 22, dtype: object"
      ]
     },
     "execution_count": 30,
     "metadata": {},
     "output_type": "execute_result"
    }
   ],
   "source": [
    "final_stats_df.loc[22]"
   ]
  },
  {
   "cell_type": "code",
   "execution_count": 29,
   "metadata": {},
   "outputs": [
    {
     "data": {
      "text/plain": [
       "True"
      ]
     },
     "execution_count": 29,
     "metadata": {},
     "output_type": "execute_result"
    }
   ],
   "source": [
    "final_stats_df.loc[0]['num_moves'].equals(final_stats_df.loc[1]['num_moves'])"
   ]
  },
  {
   "cell_type": "code",
   "execution_count": null,
   "metadata": {},
   "outputs": [],
   "source": []
  }
 ],
 "metadata": {
  "interpreter": {
   "hash": "0e2adeafa4d8ea8b56364dfeb24ca99374007784e59d4b40ac8f07b769210312"
  },
  "kernelspec": {
   "display_name": "kubeB_env",
   "language": "python",
   "name": "kubeb_env"
  },
  "language_info": {
   "codemirror_mode": {
    "name": "ipython",
    "version": 3
   },
   "file_extension": ".py",
   "mimetype": "text/x-python",
   "name": "python",
   "nbconvert_exporter": "python",
   "pygments_lexer": "ipython3",
   "version": "3.9.7"
  }
 },
 "nbformat": 4,
 "nbformat_minor": 2
}
